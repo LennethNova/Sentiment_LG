{
 "cells": [
  {
   "cell_type": "code",
   "execution_count": null,
   "id": "f5028260",
   "metadata": {
    "scrolled": true
   },
   "outputs": [],
   "source": [
    "#!pip install tweepy"
   ]
  },
  {
   "cell_type": "code",
   "execution_count": null,
   "id": "ab6e0d87",
   "metadata": {},
   "outputs": [],
   "source": [
    "#!pip install twitter"
   ]
  },
  {
   "cell_type": "code",
   "execution_count": 3,
   "id": "72064ace",
   "metadata": {
    "scrolled": true
   },
   "outputs": [],
   "source": [
    "#!pip install textblob"
   ]
  },
  {
   "cell_type": "code",
   "execution_count": 4,
   "id": "0200bc5a",
   "metadata": {},
   "outputs": [],
   "source": [
    "#!pip install wordcloud"
   ]
  },
  {
   "cell_type": "code",
   "execution_count": 1,
   "id": "c953cccc",
   "metadata": {},
   "outputs": [],
   "source": [
    "# Import the libraries\n",
    "import tweepy\n",
    "from textblob import TextBlob\n",
    "from wordcloud import WordCloud\n",
    "import pandas as pd\n",
    "import numpy as np\n",
    "import re\n",
    "import csv\n",
    "import matplotlib.pyplot as plt\n",
    "plt.style.use('fivethirtyeight')"
   ]
  },
  {
   "cell_type": "code",
   "execution_count": 3,
   "id": "62434339",
   "metadata": {},
   "outputs": [],
   "source": [
    "twitter_df= pd.read_csv('Resources/tweets.csv')"
   ]
  },
  {
   "cell_type": "code",
   "execution_count": 4,
   "id": "bbf6b895",
   "metadata": {},
   "outputs": [
    {
     "data": {
      "text/plain": [
       "0        b'More than 80% of Expats in Mexico are Happy ...\n",
       "1        b'RT @cristinacoach: WELCOME TO \\n\\xf0\\x9f\\x92...\n",
       "2        b'RT @BartenEM: Med Twitter: who is familiar w...\n",
       "3        b'RT @ACAPSproject: #Mexico: +200,000 #migrant...\n",
       "4        b'WELCOME TO \\n\\xf0\\x9f\\x92\\x8c\\xe2\\x9c\\xa8\\xf...\n",
       "                               ...                        \n",
       "27132    b'RT @BajaByBus: Loreto, Mexico, Travel Guide:...\n",
       "27133    b'F@$# MODERN COLONIALSISM!!!!!\\nLEARN THE LAN...\n",
       "27134    b'Demand #justice for the endangered baby bear...\n",
       "27135    b'RT @Finstigator: Demand #justice for the end...\n",
       "27136    b'The elimination of #trachoma as a public hea...\n",
       "Name: Tweet, Length: 27137, dtype: object"
      ]
     },
     "execution_count": 4,
     "metadata": {},
     "output_type": "execute_result"
    }
   ],
   "source": [
    "posts = twitter_df[\"Tweet\"]\n",
    "posts"
   ]
  },
  {
   "cell_type": "code",
   "execution_count": 5,
   "id": "2bd289c1",
   "metadata": {},
   "outputs": [],
   "source": [
    "# Create a dataframe with a column called Tweets\n",
    "#df = pd.DataFrame(twitter_df[\"Tweets\"])\n",
    "# Show the first 5 rows of data\n",
    "#df.head()"
   ]
  },
  {
   "cell_type": "code",
   "execution_count": 6,
   "id": "4c3e4053",
   "metadata": {},
   "outputs": [
    {
     "data": {
      "text/plain": [
       "0        More than 80 of Expats in Mexico are Happy exp...\n",
       "1        WELCOME TO CROCHET TUTORIAL hope u like go lis...\n",
       "2        Med Twitter who is familiar with the Mexican d...\n",
       "3        Mexico 200000 migrants were intercepted in 202...\n",
       "4        WELCOME TO CROCHET TUTORIAL hope u like go lis...\n",
       "                               ...                        \n",
       "27132    Loreto Mexico Travel Guide Our One-Week Itiner...\n",
       "27133    MODERN COLONIALSISMLEARN THE LANGUAGE AND STOP...\n",
       "27134    Demand justice for the endangered baby bear wh...\n",
       "27135    Demand justice for the endangered baby bear wh...\n",
       "27136    The elimination of trachoma as a public health...\n",
       "Name: Tweet, Length: 27137, dtype: object"
      ]
     },
     "execution_count": 6,
     "metadata": {},
     "output_type": "execute_result"
    }
   ],
   "source": [
    "# Create a function to clean the tweets\n",
    "def cleanTxt(text):\n",
    "    text = re.sub('@[A-Za-z0–9]+', '', text) #Removing @mentions\n",
    "    text = re.sub('#', '', text) # Removing '#' hash tag\n",
    "    text = re.sub('RT[\\s]+', '', text) # Removing RT\n",
    "    text = re.sub('https?:\\/\\/\\S+', '', text) # Removing hyperlink\n",
    "    text = re.sub(\"^b[\\'$]\", '', text) # b'\n",
    "    text = re.sub(\"\\:[\\s]\", ' ', text) # :\n",
    "    text = re.sub(\"\\+\", '', text) # +\n",
    "    text = re.sub(\"F\\@\\$[\\s]+\", '', text) #F@$\n",
    "    text = re.sub(\"\\\\\\[nxf09f928ce29ca89f8cb7]+\", '', text) #\\\n",
    "    text = re.sub(\"\\!\", '', text) #!\n",
    "    text = re.sub(\"\\&\\[amp]+\", '', text) #&\n",
    "    text = re.sub(\"\\;\", '', text) #;\n",
    "    text = re.sub(\"\\_\", '', text) #_\n",
    "    text = re.sub(\"\\,\", '', text) #,\n",
    "    text = re.sub(\"\\&\\amp+\", '', text) #&amp\n",
    "    text = re.sub(\"\\%\", '', text) #%\n",
    "    text = re.sub(\"^\\s\", '', text) #&\n",
    "    text = re.sub(\"TUTORIALhope\", 'TUTORIAL hope', text) #spaces\n",
    "    text = re.sub(\"\\&[amp\\s]+\", '', text) #&\n",
    "    text = re.sub(\"\\.+\", '', text) #.\n",
    "    \n",
    "    return text\n",
    "\n",
    "\n",
    "# Clean the tweets\n",
    "twitter_df[\"Tweet\"] = twitter_df[\"Tweet\"].apply(cleanTxt)\n",
    "\n",
    "# Show the cleaned tweets\n",
    "twitter_df[\"Tweet\"]"
   ]
  },
  {
   "cell_type": "code",
   "execution_count": null,
   "id": "0c41d265",
   "metadata": {},
   "outputs": [],
   "source": []
  }
 ],
 "metadata": {
  "kernelspec": {
   "display_name": "PythonData",
   "language": "python",
   "name": "pythondata"
  },
  "language_info": {
   "codemirror_mode": {
    "name": "ipython",
    "version": 3
   },
   "file_extension": ".py",
   "mimetype": "text/x-python",
   "name": "python",
   "nbconvert_exporter": "python",
   "pygments_lexer": "ipython3",
   "version": "3.7.13"
  }
 },
 "nbformat": 4,
 "nbformat_minor": 5
}
